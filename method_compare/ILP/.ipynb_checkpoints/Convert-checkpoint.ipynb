{
 "cells": [
  {
   "cell_type": "code",
   "execution_count": null,
   "metadata": {},
   "outputs": [],
   "source": [
    "from __future__ import absolute_import\n",
    "from __future__ import print_function\n",
    "\n",
    "import os\n",
    "import sys\n",
    "import io\n",
    "import argparse\n",
    "sys.path.append(os.path.join(os.environ[\"SUMO_HOME\"], \"tools\"))\n",
    "import sumolib  # noqa\n",
    "import osmBuild  # noqa\n",
    "import numpy as np\n",
    "import pandas as pd\n",
    "\n",
    "\n",
    "osmBuild.build([\"-f\", \"BSD.osm\"])\n",
    "net = sumolib.net.readNet(\"BSD.net.xml\")\n",
    "# # customer count ('0' is depot) \n",
    "# customer_count = 15\n",
    "# # set depot latitude and longitude\n",
    "# depot_latitude = -6.3013244\n",
    "# depot_longitude = 106.6533703\n",
    "\n",
    "# # make dataframe which contains vending machine location and demand\n",
    "# df = pd.DataFrame({\"latitude\":np.random.normal(depot_latitude, 0.025, customer_count), \n",
    "#                    \"longitude\":np.random.normal(depot_longitude, 0.015, customer_count), \n",
    "#                    \"demand\":np.random.randint(10, 600, customer_count)/10 })\n",
    "\n",
    "# # set the depot as the center and make demand 0 ('0' = depot)\n",
    "# df.iloc[0,0] = depot_latitude\n",
    "# df.iloc[0,1] = depot_longitude\n",
    "# df.iloc[0,2] = 0\n",
    "# print(df)"
   ]
  },
  {
   "cell_type": "code",
   "execution_count": null,
   "metadata": {},
   "outputs": [],
   "source": [
    "import json\n",
    "\n",
    "f = open('pelanggan.json')\n",
    "data = json.load(f)\n",
    "print(data)\n",
    "customer_count = len(data)"
   ]
  },
  {
   "cell_type": "code",
   "execution_count": null,
   "metadata": {},
   "outputs": [],
   "source": [
    "length = 5\n",
    "vclass = 'bus'\n",
    "radius = 20\n",
    "type = \"busStop\"\n",
    "\n",
    "for j in range(1, customer_count):\n",
    "    name = \"Customer\"+str(j)\n",
    "    point = net.convertLonLat2XY(data[j]['longitude'], data[j]['latitude'])\n",
    "#     print(point)\n",
    "    for lane, _ in sorted(net.getNeighboringLanes(*point, r=radius), key=lambda i: i[1]):\n",
    "        if lane.getLength() > length and lane.allows(vclass):\n",
    "            bestLane = lane\n",
    "            break\n",
    "    if bestLane:\n",
    "        pos = sumolib.geomhelper.polygonOffsetWithMinimumDistanceToPoint(point, bestLane.getShape())\n",
    "        endPos = min(lane.getLength(), max(length, pos + length / 2))\n",
    "        nameAttr = 'name=\"%s\" ' % name if name else \"\"\n",
    "        print('    <%s id=\"%s_%s\" %slane=\"%s\" startPos=\"%.2f\" endPos=\"%.2f\"/>' %\n",
    "              (type, type, j, nameAttr, bestLane.getID(), endPos - length, endPos))"
   ]
  },
  {
   "cell_type": "code",
   "execution_count": null,
   "metadata": {},
   "outputs": [],
   "source": []
  }
 ],
 "metadata": {
  "kernelspec": {
   "display_name": "Python 3",
   "language": "python",
   "name": "python3"
  },
  "language_info": {
   "codemirror_mode": {
    "name": "ipython",
    "version": 3
   },
   "file_extension": ".py",
   "mimetype": "text/x-python",
   "name": "python",
   "nbconvert_exporter": "python",
   "pygments_lexer": "ipython3",
   "version": "3.8.3"
  }
 },
 "nbformat": 4,
 "nbformat_minor": 4
}
