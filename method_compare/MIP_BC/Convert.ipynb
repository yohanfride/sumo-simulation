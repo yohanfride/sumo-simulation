{
 "cells": [
  {
   "cell_type": "code",
   "execution_count": 1,
   "metadata": {},
   "outputs": [],
   "source": [
    "from __future__ import absolute_import\n",
    "from __future__ import print_function\n",
    "\n",
    "import os\n",
    "import sys\n",
    "import io\n",
    "import argparse\n",
    "sys.path.append(os.path.join(os.environ[\"SUMO_HOME\"], \"tools\"))\n",
    "import sumolib  # noqa\n",
    "import osmBuild  # noqa\n",
    "import numpy as np\n",
    "import pandas as pd\n",
    "\n",
    "\n",
    "osmBuild.build([\"-f\", \"BSD.osm\"])\n",
    "net = sumolib.net.readNet(\"BSD.net.xml\")\n",
    "# # customer count ('0' is depot) \n",
    "# customer_count = 15\n",
    "# # set depot latitude and longitude\n",
    "# depot_latitude = -6.3013244\n",
    "# depot_longitude = 106.6533703\n",
    "\n",
    "# # make dataframe which contains vending machine location and demand\n",
    "# df = pd.DataFrame({\"latitude\":np.random.normal(depot_latitude, 0.025, customer_count), \n",
    "#                    \"longitude\":np.random.normal(depot_longitude, 0.015, customer_count), \n",
    "#                    \"demand\":np.random.randint(10, 600, customer_count)/10 })\n",
    "\n",
    "# # set the depot as the center and make demand 0 ('0' = depot)\n",
    "# df.iloc[0,0] = depot_latitude\n",
    "# df.iloc[0,1] = depot_longitude\n",
    "# df.iloc[0,2] = 0\n",
    "# print(df)"
   ]
  },
  {
   "cell_type": "code",
   "execution_count": 2,
   "metadata": {},
   "outputs": [
    {
     "name": "stdout",
     "output_type": "stream",
     "text": [
      "[{'name': 'Depo-Gas Station - Pertamina - 34-15316', 'latitude': -6.2933703, 'longitude': 106.6485656, 'demand': 0}, {'name': 'Customer 1', 'latitude': -6.308553012129026, 'longitude': 106.65369784771863, 'demand': 46}, {'name': 'Customer 2', 'latitude': -6.306462893963982, 'longitude': 106.65316998296014, 'demand': 26}, {'name': 'Customer 3', 'latitude': -6.313125664069848, 'longitude': 106.65257774911417, 'demand': 26}, {'name': 'Customer 4', 'latitude': -6.314942768908599, 'longitude': 106.65222584276755, 'demand': 27}, {'name': 'Customer 5', 'latitude': -6.312494370077666, 'longitude': 106.64662109723842, 'demand': 16}, {'name': 'Customer 6', 'latitude': -6.301096791776682, 'longitude': 106.64202056919287, 'demand': 56}, {'name': 'Customer 7', 'latitude': -6.303528183655516, 'longitude': 106.64149700146929, 'demand': 26}, {'name': 'Customer 8', 'latitude': -6.314157922920242, 'longitude': 106.65214858781376, 'demand': 30}, {'name': 'Customer 9', 'latitude': -6.309986247646281, 'longitude': 106.6539681942185, 'demand': 56}, {'name': 'Customer 10', 'latitude': -6.300226610561839, 'longitude': 106.64834628412329, 'demand': 65}, {'name': 'Customer 11', 'latitude': -6.296925013860177, 'longitude': 106.6477883846482, 'demand': 46}, {'name': 'Customer 12', 'latitude': -6.301284482656021, 'longitude': 106.6417888174282, 'demand': 33}, {'name': 'Customer 13', 'latitude': -6.303442875129913, 'longitude': 106.64164290421006, 'demand': 17}, {'name': 'Customer 14', 'latitude': -6.30969619118282, 'longitude': 106.64159998886582, 'demand': 39}, {'name': 'Customer 15', 'latitude': -6.3137654989104375, 'longitude': 106.64303335979177, 'demand': 16}, {'name': 'Customer 16', 'latitude': -6.312272571035277, 'longitude': 106.66042265518165, 'demand': 53}, {'name': 'Customer 17', 'latitude': -6.312349350622837, 'longitude': 106.65886911919635, 'demand': 31}, {'name': 'Customer 18', 'latitude': -6.316017682901618, 'longitude': 106.65321287473027, 'demand': 35}, {'name': 'Customer 19', 'latitude': -6.3180309897976725, 'longitude': 106.65429433276124, 'demand': 64}, {'name': 'Customer 20', 'latitude': -6.321639565755686, 'longitude': 106.65404542297885, 'demand': 11}, {'name': 'Customer 21', 'latitude': -6.296962405068574, 'longitude': 106.64639013632171, 'demand': 13}, {'name': 'Customer 22', 'latitude': -6.300259737771917, 'longitude': 106.64708965590893, 'demand': 36}, {'name': 'Customer 23', 'latitude': -6.303232863142195, 'longitude': 106.64614122653933, 'demand': 33}, {'name': 'Customer 24', 'latitude': -6.304128636495022, 'longitude': 106.65090482974978, 'demand': 61}, {'name': 'Customer 25', 'latitude': -6.296906953045889, 'longitude': 106.63795297807286, 'demand': 42}, {'name': 'Customer 26', 'latitude': -6.294232388244973, 'longitude': 106.64075964132411, 'demand': 38}, {'name': 'Customer 27', 'latitude': -6.23495333569224, 'longitude': 106.65248840569004, 'demand': 22}, {'name': 'Customer 28', 'latitude': -6.236531807996271, 'longitude': 106.65666835864724, 'demand': 58}, {'name': 'Customer 29', 'latitude': -6.223980683828258, 'longitude': 106.65145843480897, 'demand': 57}, {'name': 'Customer 30', 'latitude': -6.230960204261416, 'longitude': 106.62749450553858, 'demand': 41}, {'name': 'Customer 31', 'latitude': -6.25944899404309, 'longitude': 106.62246482666998, 'demand': 23}, {'name': 'Customer 32', 'latitude': -6.263023848594723, 'longitude': 106.61955516423515, 'demand': 43}, {'name': 'Customer 33', 'latitude': -6.272374663471266, 'longitude': 106.64267795118687, 'demand': 48}, {'name': 'Customer 34', 'latitude': -6.277135324137107, 'longitude': 106.6645476121823, 'demand': 70}, {'name': 'Customer 35', 'latitude': -6.297098911016561, 'longitude': 106.6702038514097, 'demand': 50}, {'name': 'Customer 36', 'latitude': -6.307720249641387, 'longitude': 106.67583434247828, 'demand': 15}, {'name': 'Customer 37', 'latitude': -6.31620863354103, 'longitude': 106.64889637906637, 'demand': 67}, {'name': 'Customer 38', 'latitude': -6.315513359415904, 'longitude': 106.65096919032405, 'demand': 40}, {'name': 'Customer 39', 'latitude': -6.316920969199447, 'longitude': 106.6469480223723, 'demand': 43}, {'name': 'Customer 40', 'latitude': -6.313990577379707, 'longitude': 106.64957444065388, 'demand': 17}, {'name': 'Customer 41', 'latitude': -6.2198978869970025, 'longitude': 106.62317292166422, 'demand': 43}, {'name': 'Customer 42', 'latitude': -6.220870596863935, 'longitude': 106.6156713173959, 'demand': 66}, {'name': 'Customer 43', 'latitude': -6.279792922210794, 'longitude': 106.6675988813049, 'demand': 48}, {'name': 'Customer 44', 'latitude': -6.283248196011678, 'longitude': 106.66848293634847, 'demand': 22}, {'name': 'Customer 45', 'latitude': -6.296213283133247, 'longitude': 106.66422737779745, 'demand': 11}, {'name': 'Customer 46', 'latitude': -6.292638657032168, 'longitude': 106.66397846670539, 'demand': 66}, {'name': 'Customer 47', 'latitude': -6.292578938446226, 'longitude': 106.67762554355382, 'demand': 41}, {'name': 'Customer 48', 'latitude': -6.279082157701798, 'longitude': 106.66542041860471, 'demand': 36}, {'name': 'Customer 49', 'latitude': -6.27792186250039, 'longitude': 106.63206661253885, 'demand': 19}, {'name': 'Customer 50', 'latitude': -6.284738564495135, 'longitude': 106.62653053313211, 'demand': 35}]\n"
     ]
    }
   ],
   "source": [
    "import json\n",
    "\n",
    "f = open('pelanggan.json')\n",
    "data = json.load(f)\n",
    "print(data)\n",
    "customer_count = len(data)"
   ]
  },
  {
   "cell_type": "code",
   "execution_count": 3,
   "metadata": {},
   "outputs": [
    {
     "name": "stderr",
     "output_type": "stream",
     "text": [
      "Warning: Module 'rtree' not available. Using brute-force fallback\n"
     ]
    },
    {
     "name": "stdout",
     "output_type": "stream",
     "text": [
      "    <busStop id=\"busStop_1\" name=\"Customer1\" lane=\"-484446266#8_0\" startPos=\"4.54\" endPos=\"9.54\"/>\n",
      "    <busStop id=\"busStop_2\" name=\"Customer2\" lane=\"-675107653#5_0\" startPos=\"51.40\" endPos=\"56.40\"/>\n",
      "    <busStop id=\"busStop_3\" name=\"Customer3\" lane=\"359246993#0_0\" startPos=\"0.00\" endPos=\"5.00\"/>\n",
      "    <busStop id=\"busStop_4\" name=\"Customer4\" lane=\"154148014#2_1\" startPos=\"0.14\" endPos=\"5.14\"/>\n",
      "    <busStop id=\"busStop_5\" name=\"Customer5\" lane=\"230291072_0\" startPos=\"48.08\" endPos=\"53.08\"/>\n",
      "    <busStop id=\"busStop_6\" name=\"Customer6\" lane=\"539383767#1_0\" startPos=\"3.61\" endPos=\"8.61\"/>\n",
      "    <busStop id=\"busStop_7\" name=\"Customer7\" lane=\"539383765#3_0\" startPos=\"250.71\" endPos=\"255.71\"/>\n",
      "    <busStop id=\"busStop_8\" name=\"Customer8\" lane=\"560361514#10_1\" startPos=\"65.56\" endPos=\"70.56\"/>\n",
      "    <busStop id=\"busStop_9\" name=\"Customer9\" lane=\"560361514#6_0\" startPos=\"66.05\" endPos=\"71.05\"/>\n",
      "    <busStop id=\"busStop_10\" name=\"Customer10\" lane=\"562021794#1_0\" startPos=\"0.00\" endPos=\"5.00\"/>\n",
      "    <busStop id=\"busStop_11\" name=\"Customer11\" lane=\"154148013#6_0\" startPos=\"91.97\" endPos=\"96.97\"/>\n",
      "    <busStop id=\"busStop_12\" name=\"Customer12\" lane=\"754594908#4_0\" startPos=\"0.00\" endPos=\"5.00\"/>\n",
      "    <busStop id=\"busStop_13\" name=\"Customer13\" lane=\"539383768#6_2\" startPos=\"0.00\" endPos=\"5.00\"/>\n",
      "    <busStop id=\"busStop_14\" name=\"Customer14\" lane=\"539383768#2_2\" startPos=\"93.76\" endPos=\"98.76\"/>\n",
      "    <busStop id=\"busStop_15\" name=\"Customer15\" lane=\"539383768#0_2\" startPos=\"105.24\" endPos=\"110.24\"/>\n",
      "    <busStop id=\"busStop_16\" name=\"Customer16\" lane=\"676492822_0\" startPos=\"66.79\" endPos=\"71.79\"/>\n",
      "    <busStop id=\"busStop_17\" name=\"Customer17\" lane=\"562549612#1_0\" startPos=\"366.05\" endPos=\"371.05\"/>\n",
      "    <busStop id=\"busStop_18\" name=\"Customer18\" lane=\"359247300#0_0\" startPos=\"20.31\" endPos=\"25.31\"/>\n",
      "    <busStop id=\"busStop_19\" name=\"Customer19\" lane=\"359247300#1_0\" startPos=\"97.46\" endPos=\"102.46\"/>\n",
      "    <busStop id=\"busStop_20\" name=\"Customer20\" lane=\"563587627_0\" startPos=\"56.74\" endPos=\"61.74\"/>\n",
      "    <busStop id=\"busStop_21\" name=\"Customer21\" lane=\"359408298#2_0\" startPos=\"0.00\" endPos=\"5.00\"/>\n",
      "    <busStop id=\"busStop_22\" name=\"Customer22\" lane=\"398041366#1_0\" startPos=\"30.84\" endPos=\"35.84\"/>\n",
      "    <busStop id=\"busStop_23\" name=\"Customer23\" lane=\"359247813#2_0\" startPos=\"270.45\" endPos=\"275.45\"/>\n",
      "    <busStop id=\"busStop_24\" name=\"Customer24\" lane=\"562021790#0_1\" startPos=\"30.08\" endPos=\"35.08\"/>\n",
      "    <busStop id=\"busStop_25\" name=\"Customer25\" lane=\"362347497#7_3\" startPos=\"53.49\" endPos=\"58.49\"/>\n",
      "    <busStop id=\"busStop_26\" name=\"Customer26\" lane=\"-359408277#0_0\" startPos=\"102.59\" endPos=\"107.59\"/>\n",
      "    <busStop id=\"busStop_27\" name=\"Customer27\" lane=\"-359408277#0_0\" startPos=\"0.00\" endPos=\"5.00\"/>\n",
      "    <busStop id=\"busStop_28\" name=\"Customer28\" lane=\"-359408277#0_0\" startPos=\"0.00\" endPos=\"5.00\"/>\n",
      "    <busStop id=\"busStop_29\" name=\"Customer29\" lane=\"-359408277#0_0\" startPos=\"0.00\" endPos=\"5.00\"/>\n",
      "    <busStop id=\"busStop_30\" name=\"Customer30\" lane=\"-359408277#0_0\" startPos=\"134.36\" endPos=\"139.36\"/>\n",
      "    <busStop id=\"busStop_31\" name=\"Customer31\" lane=\"-359408277#0_0\" startPos=\"170.18\" endPos=\"175.18\"/>\n",
      "    <busStop id=\"busStop_32\" name=\"Customer32\" lane=\"-359408277#0_0\" startPos=\"170.18\" endPos=\"175.18\"/>\n",
      "    <busStop id=\"busStop_33\" name=\"Customer33\" lane=\"-359408277#0_0\" startPos=\"0.00\" endPos=\"5.00\"/>\n",
      "    <busStop id=\"busStop_34\" name=\"Customer34\" lane=\"-359408277#0_0\" startPos=\"0.00\" endPos=\"5.00\"/>\n",
      "    <busStop id=\"busStop_35\" name=\"Customer35\" lane=\"363002237#4_0\" startPos=\"40.42\" endPos=\"45.42\"/>\n",
      "    <busStop id=\"busStop_36\" name=\"Customer36\" lane=\"-363359023#5_0\" startPos=\"50.81\" endPos=\"55.81\"/>\n",
      "    <busStop id=\"busStop_37\" name=\"Customer37\" lane=\"359244608#0_0\" startPos=\"55.62\" endPos=\"60.62\"/>\n",
      "    <busStop id=\"busStop_38\" name=\"Customer38\" lane=\"359244597#1_0\" startPos=\"28.77\" endPos=\"33.77\"/>\n",
      "    <busStop id=\"busStop_39\" name=\"Customer39\" lane=\"233703186#0_0\" startPos=\"225.12\" endPos=\"230.12\"/>\n",
      "    <busStop id=\"busStop_40\" name=\"Customer40\" lane=\"233703205#1_0\" startPos=\"41.98\" endPos=\"46.98\"/>\n",
      "    <busStop id=\"busStop_41\" name=\"Customer41\" lane=\"233703205#1_0\" startPos=\"0.00\" endPos=\"5.00\"/>\n",
      "    <busStop id=\"busStop_42\" name=\"Customer42\" lane=\"233703205#1_0\" startPos=\"0.00\" endPos=\"5.00\"/>\n",
      "    <busStop id=\"busStop_43\" name=\"Customer43\" lane=\"-362985261#6_0\" startPos=\"0.00\" endPos=\"5.00\"/>\n",
      "    <busStop id=\"busStop_44\" name=\"Customer44\" lane=\"362985244#7_0\" startPos=\"0.00\" endPos=\"5.00\"/>\n",
      "    <busStop id=\"busStop_45\" name=\"Customer45\" lane=\"168328152#0_0\" startPos=\"0.00\" endPos=\"5.00\"/>\n",
      "    <busStop id=\"busStop_46\" name=\"Customer46\" lane=\"403676096#0_0\" startPos=\"241.64\" endPos=\"246.64\"/>\n",
      "    <busStop id=\"busStop_47\" name=\"Customer47\" lane=\"358237489#0_0\" startPos=\"56.23\" endPos=\"61.23\"/>\n",
      "    <busStop id=\"busStop_48\" name=\"Customer48\" lane=\"362985258#0_0\" startPos=\"47.30\" endPos=\"52.30\"/>\n",
      "    <busStop id=\"busStop_49\" name=\"Customer49\" lane=\"456786214#1_0\" startPos=\"242.07\" endPos=\"247.07\"/>\n",
      "    <busStop id=\"busStop_50\" name=\"Customer50\" lane=\"757450364#0_1\" startPos=\"48.64\" endPos=\"53.64\"/>\n"
     ]
    }
   ],
   "source": [
    "length = 5\n",
    "vclass = 'bus'\n",
    "radius = 20\n",
    "type = \"busStop\"\n",
    "\n",
    "for j in range(1, customer_count):\n",
    "    name = \"Customer\"+str(j)\n",
    "    point = net.convertLonLat2XY(data[j]['longitude'], data[j]['latitude'])\n",
    "#     print(point)\n",
    "    for lane, _ in sorted(net.getNeighboringLanes(*point, r=radius), key=lambda i: i[1]):\n",
    "        if lane.getLength() > length and lane.allows(vclass):\n",
    "            bestLane = lane\n",
    "            break\n",
    "    if bestLane:\n",
    "        pos = sumolib.geomhelper.polygonOffsetWithMinimumDistanceToPoint(point, bestLane.getShape())\n",
    "        endPos = min(lane.getLength(), max(length, pos + length / 2))\n",
    "        nameAttr = 'name=\"%s\" ' % name if name else \"\"\n",
    "        print('    <%s id=\"%s_%s\" %slane=\"%s\" startPos=\"%.2f\" endPos=\"%.2f\"/>' %\n",
    "              (type, type, j, nameAttr, bestLane.getID(), endPos - length, endPos))"
   ]
  },
  {
   "cell_type": "code",
   "execution_count": 4,
   "metadata": {},
   "outputs": [
    {
     "name": "stdout",
     "output_type": "stream",
     "text": [
      "    <containerStop id=\"containerStop_0\" name=\"DEPOT\" lane=\"-359409608_0\" startPos=\"20.61\" endPos=\"25.61\"/>\n"
     ]
    }
   ],
   "source": [
    "length = 5\n",
    "vclass = 'bus'\n",
    "radius = 20\n",
    "type = \"containerStop\"\n",
    "name = \"DEPOT\"\n",
    "j=0\n",
    "point = net.convertLonLat2XY(data[j]['longitude'], data[j]['latitude'])\n",
    "#     print(point)\n",
    "for lane, _ in sorted(net.getNeighboringLanes(*point, r=radius), key=lambda i: i[1]):\n",
    "    if lane.getLength() > length and lane.allows(vclass):\n",
    "        bestLane = lane\n",
    "        break\n",
    "if bestLane:\n",
    "    pos = sumolib.geomhelper.polygonOffsetWithMinimumDistanceToPoint(point, bestLane.getShape())\n",
    "    endPos = min(lane.getLength(), max(length, pos + length / 2))\n",
    "    nameAttr = 'name=\"%s\" ' % name if name else \"\"\n",
    "    print('    <%s id=\"%s_%s\" %slane=\"%s\" startPos=\"%.2f\" endPos=\"%.2f\"/>' %\n",
    "          (type, type, j, nameAttr, bestLane.getID(), endPos - length, endPos))"
   ]
  },
  {
   "cell_type": "code",
   "execution_count": null,
   "metadata": {},
   "outputs": [],
   "source": []
  }
 ],
 "metadata": {
  "kernelspec": {
   "display_name": "Python 3",
   "language": "python",
   "name": "python3"
  },
  "language_info": {
   "codemirror_mode": {
    "name": "ipython",
    "version": 3
   },
   "file_extension": ".py",
   "mimetype": "text/x-python",
   "name": "python",
   "nbconvert_exporter": "python",
   "pygments_lexer": "ipython3",
   "version": "3.8.3"
  }
 },
 "nbformat": 4,
 "nbformat_minor": 4
}
