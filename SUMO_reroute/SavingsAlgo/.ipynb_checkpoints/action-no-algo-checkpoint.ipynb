{
 "cells": [
  {
   "cell_type": "code",
   "execution_count": 1,
   "id": "anticipated-skating",
   "metadata": {},
   "outputs": [],
   "source": [
    "import os, sys\n",
    "if 'SUMO_HOME' in os.environ:\n",
    "    tools = os.path.join(os.environ['SUMO_HOME'], 'tools')\n",
    "    sys.path.append(tools)\n",
    "else:   \n",
    "    sys.exit(\"please declare environment variable 'SUMO_HOME'\")\n",
    "\n",
    "sumoBinary = \"C:/Program Files (x86)/Eclipse/Sumo/bin/sumo-gui\"\n",
    "sumoConfig = [\"-c\", \"map-bsd1.sumocfg\", \"-S\"]\n",
    "sumoCmd = [sumoBinary, sumoConfig[0], sumoConfig[1], sumoConfig[2]]\n",
    "\n",
    "import traci\n",
    "import traci.constants as tc\n",
    "import sumolib\n",
    "import time\n",
    "import json\n",
    "import xml.etree.ElementTree as ET"
   ]
  },
  {
   "cell_type": "code",
   "execution_count": 2,
   "id": "accompanied-command",
   "metadata": {},
   "outputs": [],
   "source": [
    "rute = [\n",
    "    [0, 5, 15, 14, 13, 6, 0],\n",
    "    [0, 2, 9, 8, 4, 3, 1, 0],\n",
    "    [0, 10, 7, 12, 11, 0] \n",
    "]\n",
    "bus_id = ['veh0','veh1','veh2']\n",
    "listtime = [[] for i in range(len(bus_id))]\n",
    "step = 0\n",
    "laststop = [\"0\" for i in range(len(bus_id))];\n",
    "start_time = [0 for i in range(len(bus_id))]\n",
    "current_stopid = [\"0\" for i in range(len(bus_id))]\n",
    "route = [[] for i in range(len(bus_id))]\n",
    "tw = [[] for i in range(len(bus_id))]\n",
    "leading = [[] for i in range(len(bus_id))]\n",
    "delay = [[] for i in range(len(bus_id))]\n",
    "steps = [[] for i in range(len(bus_id))]\n",
    "pos = [0 for i in range(len(bus_id))]"
   ]
  },
  {
   "cell_type": "code",
   "execution_count": 3,
   "id": "failing-serve",
   "metadata": {},
   "outputs": [
    {
     "name": "stdout",
     "output_type": "stream",
     "text": [
      "Starting the TraCI server...\n"
     ]
    },
    {
     "data": {
      "text/plain": [
       "(20, 'SUMO 1.8.0')"
      ]
     },
     "execution_count": 3,
     "metadata": {},
     "output_type": "execute_result"
    }
   ],
   "source": [
    "print(\"Starting the TraCI server...\")\n",
    "traci.start(sumoCmd) \n"
   ]
  },
  {
   "cell_type": "code",
   "execution_count": 4,
   "id": "developing-eugene",
   "metadata": {},
   "outputs": [
    {
     "name": "stdout",
     "output_type": "stream",
     "text": [
      "rute_0_5\n",
      "rute_0_2\n",
      "rute_0_10\n",
      "rute_0_5\n"
     ]
    },
    {
     "ename": "TraCIException",
     "evalue": "The vehicle 'veh0' to add already exists.",
     "output_type": "error",
     "traceback": [
      "\u001b[1;31m---------------------------------------------------------------------------\u001b[0m",
      "\u001b[1;31mTraCIException\u001b[0m                            Traceback (most recent call last)",
      "\u001b[1;32m<ipython-input-4-d9191f3dfba8>\u001b[0m in \u001b[0;36m<module>\u001b[1;34m\u001b[0m\n\u001b[0;32m     10\u001b[0m             \u001b[0mprint\u001b[0m\u001b[1;33m(\u001b[0m\u001b[0msrute\u001b[0m\u001b[1;33m)\u001b[0m\u001b[1;33m\u001b[0m\u001b[1;33m\u001b[0m\u001b[0m\n\u001b[0;32m     11\u001b[0m             \u001b[0mpos\u001b[0m\u001b[1;33m[\u001b[0m\u001b[0mi\u001b[0m\u001b[1;33m]\u001b[0m \u001b[1;33m=\u001b[0m \u001b[1;36m1\u001b[0m\u001b[1;33m\u001b[0m\u001b[1;33m\u001b[0m\u001b[0m\n\u001b[1;32m---> 12\u001b[1;33m             \u001b[0mtraci\u001b[0m\u001b[1;33m.\u001b[0m\u001b[0mvehicle\u001b[0m\u001b[1;33m.\u001b[0m\u001b[0madd\u001b[0m\u001b[1;33m(\u001b[0m\u001b[0mbus_id\u001b[0m\u001b[1;33m[\u001b[0m\u001b[0mi\u001b[0m\u001b[1;33m]\u001b[0m\u001b[1;33m,\u001b[0m \u001b[0msrute\u001b[0m\u001b[1;33m)\u001b[0m\u001b[1;33m\u001b[0m\u001b[1;33m\u001b[0m\u001b[0m\n\u001b[0m\u001b[0;32m     13\u001b[0m         \u001b[1;32melse\u001b[0m\u001b[1;33m:\u001b[0m\u001b[1;33m\u001b[0m\u001b[1;33m\u001b[0m\u001b[0m\n\u001b[0;32m     14\u001b[0m             \u001b[0mstops\u001b[0m \u001b[1;33m=\u001b[0m \u001b[0mtraci\u001b[0m\u001b[1;33m.\u001b[0m\u001b[0mvehicle\u001b[0m\u001b[1;33m.\u001b[0m\u001b[0mgetNextStops\u001b[0m\u001b[1;33m(\u001b[0m\u001b[0mbus_id\u001b[0m\u001b[1;33m[\u001b[0m\u001b[0mi\u001b[0m\u001b[1;33m]\u001b[0m\u001b[1;33m)\u001b[0m\u001b[1;33m\u001b[0m\u001b[1;33m\u001b[0m\u001b[0m\n",
      "\u001b[1;32mC:\\Program Files (x86)\\Eclipse\\Sumo\\tools\\traci\\_vehicle.py\u001b[0m in \u001b[0;36madd\u001b[1;34m(self, vehID, routeID, typeID, depart, departLane, departPos, departSpeed, arrivalLane, arrivalPos, arrivalSpeed, fromTaz, toTaz, line, personCapacity, personNumber)\u001b[0m\n\u001b[0;32m   1556\u001b[0m         \u001b[1;32mif\u001b[0m \u001b[0mdepart\u001b[0m \u001b[1;32mis\u001b[0m \u001b[1;32mNone\u001b[0m\u001b[1;33m:\u001b[0m\u001b[1;33m\u001b[0m\u001b[1;33m\u001b[0m\u001b[0m\n\u001b[0;32m   1557\u001b[0m             \u001b[0mdepart\u001b[0m \u001b[1;33m=\u001b[0m \u001b[0mstr\u001b[0m\u001b[1;33m(\u001b[0m\u001b[0mself\u001b[0m\u001b[1;33m.\u001b[0m\u001b[0m_connection\u001b[0m\u001b[1;33m.\u001b[0m\u001b[0msimulation\u001b[0m\u001b[1;33m.\u001b[0m\u001b[0mgetTime\u001b[0m\u001b[1;33m(\u001b[0m\u001b[1;33m)\u001b[0m\u001b[1;33m)\u001b[0m\u001b[1;33m\u001b[0m\u001b[1;33m\u001b[0m\u001b[0m\n\u001b[1;32m-> 1558\u001b[1;33m         self._setCmd(tc.ADD_FULL, vehID, \"t\" + (12 * \"s\") + \"ii\", 14,\n\u001b[0m\u001b[0;32m   1559\u001b[0m                      \u001b[0mrouteID\u001b[0m\u001b[1;33m,\u001b[0m \u001b[0mtypeID\u001b[0m\u001b[1;33m,\u001b[0m \u001b[0mdepart\u001b[0m\u001b[1;33m,\u001b[0m \u001b[0mdepartLane\u001b[0m\u001b[1;33m,\u001b[0m \u001b[0mdepartPos\u001b[0m\u001b[1;33m,\u001b[0m \u001b[0mdepartSpeed\u001b[0m\u001b[1;33m,\u001b[0m\u001b[1;33m\u001b[0m\u001b[1;33m\u001b[0m\u001b[0m\n\u001b[0;32m   1560\u001b[0m                      arrivalLane, arrivalPos, arrivalSpeed, fromTaz, toTaz, line, personCapacity, personNumber)\n",
      "\u001b[1;32mC:\\Program Files (x86)\\Eclipse\\Sumo\\tools\\traci\\domain.py\u001b[0m in \u001b[0;36m_setCmd\u001b[1;34m(self, varID, objectID, format, *values)\u001b[0m\n\u001b[0;32m    183\u001b[0m         \u001b[1;32mif\u001b[0m \u001b[0mself\u001b[0m\u001b[1;33m.\u001b[0m\u001b[0m_connection\u001b[0m \u001b[1;32mis\u001b[0m \u001b[1;32mNone\u001b[0m\u001b[1;33m:\u001b[0m\u001b[1;33m\u001b[0m\u001b[1;33m\u001b[0m\u001b[0m\n\u001b[0;32m    184\u001b[0m             \u001b[1;32mraise\u001b[0m \u001b[0mFatalTraCIError\u001b[0m\u001b[1;33m(\u001b[0m\u001b[1;34m\"Not connected.\"\u001b[0m\u001b[1;33m)\u001b[0m\u001b[1;33m\u001b[0m\u001b[1;33m\u001b[0m\u001b[0m\n\u001b[1;32m--> 185\u001b[1;33m         \u001b[0mself\u001b[0m\u001b[1;33m.\u001b[0m\u001b[0m_connection\u001b[0m\u001b[1;33m.\u001b[0m\u001b[0m_sendCmd\u001b[0m\u001b[1;33m(\u001b[0m\u001b[0mself\u001b[0m\u001b[1;33m.\u001b[0m\u001b[0m_cmdSetID\u001b[0m\u001b[1;33m,\u001b[0m \u001b[0mvarID\u001b[0m\u001b[1;33m,\u001b[0m \u001b[0mobjectID\u001b[0m\u001b[1;33m,\u001b[0m \u001b[0mformat\u001b[0m\u001b[1;33m,\u001b[0m \u001b[1;33m*\u001b[0m\u001b[0mvalues\u001b[0m\u001b[1;33m)\u001b[0m\u001b[1;33m\u001b[0m\u001b[1;33m\u001b[0m\u001b[0m\n\u001b[0m\u001b[0;32m    186\u001b[0m \u001b[1;33m\u001b[0m\u001b[0m\n\u001b[0;32m    187\u001b[0m     \u001b[1;32mdef\u001b[0m \u001b[0mgetIDList\u001b[0m\u001b[1;33m(\u001b[0m\u001b[0mself\u001b[0m\u001b[1;33m)\u001b[0m\u001b[1;33m:\u001b[0m\u001b[1;33m\u001b[0m\u001b[1;33m\u001b[0m\u001b[0m\n",
      "\u001b[1;32mC:\\Program Files (x86)\\Eclipse\\Sumo\\tools\\traci\\connection.py\u001b[0m in \u001b[0;36m_sendCmd\u001b[1;34m(self, cmdID, varID, objID, format, *values)\u001b[0m\n\u001b[0;32m    178\u001b[0m             \u001b[0mself\u001b[0m\u001b[1;33m.\u001b[0m\u001b[0m_string\u001b[0m \u001b[1;33m+=\u001b[0m \u001b[0mstruct\u001b[0m\u001b[1;33m.\u001b[0m\u001b[0mpack\u001b[0m\u001b[1;33m(\u001b[0m\u001b[1;34m\"!i\"\u001b[0m\u001b[1;33m,\u001b[0m \u001b[0mlen\u001b[0m\u001b[1;33m(\u001b[0m\u001b[0mobjID\u001b[0m\u001b[1;33m)\u001b[0m\u001b[1;33m)\u001b[0m \u001b[1;33m+\u001b[0m \u001b[0mobjID\u001b[0m\u001b[1;33m.\u001b[0m\u001b[0mencode\u001b[0m\u001b[1;33m(\u001b[0m\u001b[1;34m\"latin1\"\u001b[0m\u001b[1;33m)\u001b[0m\u001b[1;33m\u001b[0m\u001b[1;33m\u001b[0m\u001b[0m\n\u001b[0;32m    179\u001b[0m         \u001b[0mself\u001b[0m\u001b[1;33m.\u001b[0m\u001b[0m_string\u001b[0m \u001b[1;33m+=\u001b[0m \u001b[0mpacked\u001b[0m\u001b[1;33m\u001b[0m\u001b[1;33m\u001b[0m\u001b[0m\n\u001b[1;32m--> 180\u001b[1;33m         \u001b[1;32mreturn\u001b[0m \u001b[0mself\u001b[0m\u001b[1;33m.\u001b[0m\u001b[0m_sendExact\u001b[0m\u001b[1;33m(\u001b[0m\u001b[1;33m)\u001b[0m\u001b[1;33m\u001b[0m\u001b[1;33m\u001b[0m\u001b[0m\n\u001b[0m\u001b[0;32m    181\u001b[0m \u001b[1;33m\u001b[0m\u001b[0m\n\u001b[0;32m    182\u001b[0m     \u001b[1;32mdef\u001b[0m \u001b[0m_readSubscription\u001b[0m\u001b[1;33m(\u001b[0m\u001b[0mself\u001b[0m\u001b[1;33m,\u001b[0m \u001b[0mresult\u001b[0m\u001b[1;33m)\u001b[0m\u001b[1;33m:\u001b[0m\u001b[1;33m\u001b[0m\u001b[1;33m\u001b[0m\u001b[0m\n",
      "\u001b[1;32mC:\\Program Files (x86)\\Eclipse\\Sumo\\tools\\traci\\connection.py\u001b[0m in \u001b[0;36m_sendExact\u001b[1;34m(self)\u001b[0m\n\u001b[0;32m     95\u001b[0m                 \u001b[0mself\u001b[0m\u001b[1;33m.\u001b[0m\u001b[0m_string\u001b[0m \u001b[1;33m=\u001b[0m \u001b[0mbytes\u001b[0m\u001b[1;33m(\u001b[0m\u001b[1;33m)\u001b[0m\u001b[1;33m\u001b[0m\u001b[1;33m\u001b[0m\u001b[0m\n\u001b[0;32m     96\u001b[0m                 \u001b[0mself\u001b[0m\u001b[1;33m.\u001b[0m\u001b[0m_queue\u001b[0m \u001b[1;33m=\u001b[0m \u001b[1;33m[\u001b[0m\u001b[1;33m]\u001b[0m\u001b[1;33m\u001b[0m\u001b[1;33m\u001b[0m\u001b[0m\n\u001b[1;32m---> 97\u001b[1;33m                 \u001b[1;32mraise\u001b[0m \u001b[0mTraCIException\u001b[0m\u001b[1;33m(\u001b[0m\u001b[0merr\u001b[0m\u001b[1;33m,\u001b[0m \u001b[0mprefix\u001b[0m\u001b[1;33m[\u001b[0m\u001b[1;36m1\u001b[0m\u001b[1;33m]\u001b[0m\u001b[1;33m,\u001b[0m \u001b[0m_RESULTS\u001b[0m\u001b[1;33m[\u001b[0m\u001b[0mprefix\u001b[0m\u001b[1;33m[\u001b[0m\u001b[1;36m2\u001b[0m\u001b[1;33m]\u001b[0m\u001b[1;33m]\u001b[0m\u001b[1;33m)\u001b[0m\u001b[1;33m\u001b[0m\u001b[1;33m\u001b[0m\u001b[0m\n\u001b[0m\u001b[0;32m     98\u001b[0m             \u001b[1;32melif\u001b[0m \u001b[0mprefix\u001b[0m\u001b[1;33m[\u001b[0m\u001b[1;36m1\u001b[0m\u001b[1;33m]\u001b[0m \u001b[1;33m!=\u001b[0m \u001b[0mcommand\u001b[0m\u001b[1;33m:\u001b[0m\u001b[1;33m\u001b[0m\u001b[1;33m\u001b[0m\u001b[0m\n\u001b[0;32m     99\u001b[0m                 \u001b[1;32mraise\u001b[0m \u001b[0mFatalTraCIError\u001b[0m\u001b[1;33m(\u001b[0m\u001b[1;34m\"Received answer %s for command %s.\"\u001b[0m \u001b[1;33m%\u001b[0m \u001b[1;33m(\u001b[0m\u001b[0mprefix\u001b[0m\u001b[1;33m[\u001b[0m\u001b[1;36m1\u001b[0m\u001b[1;33m]\u001b[0m\u001b[1;33m,\u001b[0m \u001b[0mcommand\u001b[0m\u001b[1;33m)\u001b[0m\u001b[1;33m)\u001b[0m\u001b[1;33m\u001b[0m\u001b[1;33m\u001b[0m\u001b[0m\n",
      "\u001b[1;31mTraCIException\u001b[0m: The vehicle 'veh0' to add already exists."
     ]
    }
   ],
   "source": [
    "while step < 5000:\n",
    "    # advance the simulation\n",
    "    # print(\"\\nsimulation step: %i\" % step)\n",
    "#     traci.simulationStep()   \n",
    "    ids = traci.vehicle.getIDList()\n",
    "    for i in range(len(bus_id)):\n",
    "        if bus_id[i] not in ids:\n",
    "            bstop = \"busStop_\"+str(rute[i][1])\n",
    "            srute = \"rute_\"+str(rute[i][0])+\"_\"+str(rute[i][1])\n",
    "            print(srute)\n",
    "            pos[i] = 1\n",
    "            traci.vehicle.add(bus_id[i], srute)\n",
    "            ids = traci.vehicle.getIDList()\n",
    "        else:\n",
    "            stops = traci.vehicle.getNextStops(bus_id[i])\n",
    "            if len(stops) > 0:\n",
    "                next_stop = stops[0]\n",
    "                current_stopid[i] = next_stop[2]\n",
    "            else:\n",
    "                current_stopid[i] = \"\" \n",
    "            if laststop[i] != current_stopid[i]:\n",
    "                if(current_stopid[i] == \"\"):\n",
    "                    pos[i]+=1\n",
    "                    route_id = \"rute_\"+str(rute[i][pos[i]-1])+\"_\"+str(rute[i][pos[i]])\n",
    "                    stop_id = \"busStop_\"+str(rute[i][pos[i]])\n",
    "                    if( rute[i][pos[i]] == 0 ):\n",
    "                        stop_id = \"depot\"\n",
    "                    traci.vehicle.setRouteID(bus_id[i], route_id)\n",
    "                    traci.vehicle.setBusStop(bus_id[i], stop_id, duration=240)\n",
    "\n",
    "                    x = laststop[i].replace(\"busStop_\", \"\").replace(\"depot\",\"0\")\n",
    "                    y = stop_id.replace(\"busStop_\", \"\").replace(\"depot\",\"0\")\n",
    "                    laststop[i] = current_stopid[i]\n",
    "                    listtime[i].append(step - start_time[i])\n",
    "                    start_time[i] = step\n",
    "\n",
    "                    if(y != ''):\n",
    "                        x = int(x)\n",
    "                        y = int(y)\n",
    "                        route[i].append((x,y))\n",
    "                        tw[i].append(str(data[x]['ready_time'])+\" --- \"+str(data[x]['due_time']))        \n",
    "                        dl = step - data[x]['due_time']\n",
    "                        if dl < 0:\n",
    "                            dl = 0\n",
    "                        ld = data[x]['ready_time'] - step\n",
    "                        if ld < 0:\n",
    "                            ld = 0\n",
    "                        leading[i].append(ld)\n",
    "                        delay[i].append(dl)\n",
    "                        steps[i].append(step)\n",
    "                    print(\"Next Stop Vehicle \"+str(i)+\" --> \"+current_stopid[i])\n",
    "                \n",
    "                \n",
    "                \n",
    "    step += 1   \n",
    "        "
   ]
  },
  {
   "cell_type": "code",
   "execution_count": null,
   "id": "informed-promise",
   "metadata": {},
   "outputs": [],
   "source": []
  }
 ],
 "metadata": {
  "kernelspec": {
   "display_name": "Python 3",
   "language": "python",
   "name": "python3"
  },
  "language_info": {
   "codemirror_mode": {
    "name": "ipython",
    "version": 3
   },
   "file_extension": ".py",
   "mimetype": "text/x-python",
   "name": "python",
   "nbconvert_exporter": "python",
   "pygments_lexer": "ipython3",
   "version": "3.8.3"
  }
 },
 "nbformat": 4,
 "nbformat_minor": 5
}
