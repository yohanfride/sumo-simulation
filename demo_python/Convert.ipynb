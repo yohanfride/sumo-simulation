{
 "cells": [
  {
   "cell_type": "code",
   "execution_count": 2,
   "metadata": {},
   "outputs": [
    {
     "ename": "NameError",
     "evalue": "name 'json' is not defined",
     "output_type": "error",
     "traceback": [
      "\u001b[1;31m---------------------------------------------------------------------------\u001b[0m",
      "\u001b[1;31mNameError\u001b[0m                                 Traceback (most recent call last)",
      "\u001b[1;32m<ipython-input-2-b6477bcfec9a>\u001b[0m in \u001b[0;36m<module>\u001b[1;34m\u001b[0m\n\u001b[0;32m     16\u001b[0m \u001b[0mnet\u001b[0m \u001b[1;33m=\u001b[0m \u001b[0msumolib\u001b[0m\u001b[1;33m.\u001b[0m\u001b[0mnet\u001b[0m\u001b[1;33m.\u001b[0m\u001b[0mreadNet\u001b[0m\u001b[1;33m(\u001b[0m\u001b[1;34m\"BSD.net.xml\"\u001b[0m\u001b[1;33m)\u001b[0m\u001b[1;33m\u001b[0m\u001b[1;33m\u001b[0m\u001b[0m\n\u001b[0;32m     17\u001b[0m \u001b[0mf\u001b[0m \u001b[1;33m=\u001b[0m \u001b[0mopen\u001b[0m\u001b[1;33m(\u001b[0m\u001b[1;34m'customer-10.json'\u001b[0m\u001b[1;33m,\u001b[0m\u001b[1;33m)\u001b[0m\u001b[1;33m\u001b[0m\u001b[1;33m\u001b[0m\u001b[0m\n\u001b[1;32m---> 18\u001b[1;33m \u001b[0mdata\u001b[0m \u001b[1;33m=\u001b[0m \u001b[0mjson\u001b[0m\u001b[1;33m.\u001b[0m\u001b[0mload\u001b[0m\u001b[1;33m(\u001b[0m\u001b[0mf\u001b[0m\u001b[1;33m)\u001b[0m\u001b[1;33m\u001b[0m\u001b[1;33m\u001b[0m\u001b[0m\n\u001b[0m\u001b[0;32m     19\u001b[0m \u001b[0mprint\u001b[0m\u001b[1;33m(\u001b[0m\u001b[0mdata\u001b[0m\u001b[1;33m)\u001b[0m\u001b[1;33m\u001b[0m\u001b[1;33m\u001b[0m\u001b[0m\n\u001b[0;32m     20\u001b[0m \u001b[1;33m\u001b[0m\u001b[0m\n",
      "\u001b[1;31mNameError\u001b[0m: name 'json' is not defined"
     ]
    }
   ],
   "source": [
    "from __future__ import absolute_import\n",
    "from __future__ import print_function\n",
    "\n",
    "import os\n",
    "import sys\n",
    "import io\n",
    "import argparse\n",
    "sys.path.append(os.path.join(os.environ[\"SUMO_HOME\"], \"tools\"))\n",
    "import sumolib  # noqa\n",
    "import osmBuild  # noqa\n",
    "import numpy as np\n",
    "import pandas as pd\n",
    "\n",
    "\n",
    "osmBuild.build([\"-f\", \"BSD.osm\"])\n",
    "net = sumolib.net.readNet(\"BSD.net.xml\")\n",
    "# # customer count ('0' is depot) \n",
    "# customer_count = 15\n",
    "# # set depot latitude and longitude\n",
    "# depot_latitude = -6.3013244\n",
    "# depot_longitude = 106.6533703\n",
    "\n",
    "# # make dataframe which contains vending machine location and demand\n",
    "# df = pd.DataFrame({\"latitude\":np.random.normal(depot_latitude, 0.025, customer_count), \n",
    "#                    \"longitude\":np.random.normal(depot_longitude, 0.015, customer_count), \n",
    "#                    \"demand\":np.random.randint(10, 600, customer_count)/10 })\n",
    "\n",
    "# # set the depot as the center and make demand 0 ('0' = depot)\n",
    "# df.iloc[0,0] = depot_latitude\n",
    "# df.iloc[0,1] = depot_longitude\n",
    "# df.iloc[0,2] = 0\n",
    "# print(df)"
   ]
  },
  {
   "cell_type": "code",
   "execution_count": 13,
   "metadata": {},
   "outputs": [
    {
     "name": "stdout",
     "output_type": "stream",
     "text": [
      "[{'name': 'Customer 1', 'latitude': -6.308553012129026, 'longitude': 106.65369784771863}, {'name': 'Customer 2', 'latitude': -6.306462893963982, 'longitude': 106.65316998296014}, {'name': 'Customer 3', 'latitude': -6.312494370077666, 'longitude': 106.64662109723842}, {'name': 'Customer 4', 'latitude': -6.301096791776682, 'longitude': 106.64202056919287}, {'name': 'Customer 5', 'latitude': -6.303528183655516, 'longitude': 106.64149700146929}, {'name': 'Customer 6', 'latitude': -6.314157922920242, 'longitude': 106.65214858781376}, {'name': 'Customer 7', 'latitude': -6.309986247646281, 'longitude': 106.6539681942185}, {'name': 'Customer 8', 'latitude': -6.300226610561839, 'longitude': 106.64834628412329}, {'name': 'Customer 9', 'latitude': -6.296925013860177, 'longitude': 106.6477883846482}, {'name': 'Customer 10', 'latitude': -6.30969619118282, 'longitude': 106.64159998886582}, {'name': 'Customer 11', 'latitude': -6.3137654989104375, 'longitude': 106.64303335979177}, {'name': 'Customer 12', 'latitude': -6.312272571035277, 'longitude': 106.66042265518165}, {'name': 'Customer 13', 'latitude': -6.304128636495022, 'longitude': 106.65090482974978}, {'name': 'Customer 14', 'latitude': -6.263023848594723, 'longitude': 106.61955516423515}, {'name': 'Customer 15', 'latitude': -6.272374663471266, 'longitude': 106.64267795118687}, {'name': 'Customer 16', 'latitude': -6.292578938446226, 'longitude': 106.67762554355382}, {'name': 'Customer 17', 'latitude': -6.279082157701798, 'longitude': 106.66542041860471}]\n"
     ]
    }
   ],
   "source": [
    "import json\n",
    "\n",
    "f = open('customer-10.json')\n",
    "data = json.load(f)\n",
    "print(data)\n",
    "customer_count = len(data)"
   ]
  },
  {
   "cell_type": "code",
   "execution_count": 15,
   "metadata": {},
   "outputs": [
    {
     "name": "stdout",
     "output_type": "stream",
     "text": [
      "    <busStop id=\"busStop_1\" name=\"Customer1\" lane=\"-675107653#5_0\" startPos=\"51.40\" endPos=\"56.40\"/>\n",
      "    <busStop id=\"busStop_2\" name=\"Customer2\" lane=\"230291072_0\" startPos=\"48.08\" endPos=\"53.08\"/>\n",
      "    <busStop id=\"busStop_3\" name=\"Customer3\" lane=\"539383767#1_0\" startPos=\"3.61\" endPos=\"8.61\"/>\n",
      "    <busStop id=\"busStop_4\" name=\"Customer4\" lane=\"539383765#3_0\" startPos=\"250.71\" endPos=\"255.71\"/>\n",
      "    <busStop id=\"busStop_5\" name=\"Customer5\" lane=\"560361514#10_1\" startPos=\"65.56\" endPos=\"70.56\"/>\n",
      "    <busStop id=\"busStop_6\" name=\"Customer6\" lane=\"560361514#6_0\" startPos=\"66.05\" endPos=\"71.05\"/>\n",
      "    <busStop id=\"busStop_7\" name=\"Customer7\" lane=\"562021794#1_0\" startPos=\"0.00\" endPos=\"5.00\"/>\n",
      "    <busStop id=\"busStop_8\" name=\"Customer8\" lane=\"154148013#6_0\" startPos=\"91.97\" endPos=\"96.97\"/>\n",
      "    <busStop id=\"busStop_9\" name=\"Customer9\" lane=\"539383768#2_2\" startPos=\"93.76\" endPos=\"98.76\"/>\n",
      "    <busStop id=\"busStop_10\" name=\"Customer10\" lane=\"539383768#0_2\" startPos=\"105.24\" endPos=\"110.24\"/>\n",
      "    <busStop id=\"busStop_11\" name=\"Customer11\" lane=\"676492822_0\" startPos=\"66.79\" endPos=\"71.79\"/>\n",
      "    <busStop id=\"busStop_12\" name=\"Customer12\" lane=\"562021790#0_1\" startPos=\"30.08\" endPos=\"35.08\"/>\n",
      "    <busStop id=\"busStop_13\" name=\"Customer13\" lane=\"562021790#0_1\" startPos=\"48.64\" endPos=\"53.64\"/>\n",
      "    <busStop id=\"busStop_14\" name=\"Customer14\" lane=\"562021790#0_1\" startPos=\"48.64\" endPos=\"53.64\"/>\n",
      "    <busStop id=\"busStop_15\" name=\"Customer15\" lane=\"358237489#0_0\" startPos=\"56.23\" endPos=\"61.23\"/>\n",
      "    <busStop id=\"busStop_16\" name=\"Customer16\" lane=\"362985258#0_0\" startPos=\"47.30\" endPos=\"52.30\"/>\n"
     ]
    }
   ],
   "source": [
    "length = 5\n",
    "vclass = 'bus'\n",
    "radius = 20\n",
    "type = \"busStop\"\n",
    "\n",
    "for j in range(1, customer_count):\n",
    "    name = \"Customer\"+str(j)\n",
    "    point = net.convertLonLat2XY(data[j]['longitude'], data[j]['latitude'])\n",
    "#     print(point)\n",
    "    for lane, _ in sorted(net.getNeighboringLanes(*point, r=radius), key=lambda i: i[1]):\n",
    "        if lane.getLength() > length and lane.allows(vclass):\n",
    "            bestLane = lane\n",
    "            break\n",
    "    if bestLane:\n",
    "        pos = sumolib.geomhelper.polygonOffsetWithMinimumDistanceToPoint(point, bestLane.getShape())\n",
    "        endPos = min(lane.getLength(), max(length, pos + length / 2))\n",
    "        nameAttr = 'name=\"%s\" ' % name if name else \"\"\n",
    "        print('    <%s id=\"%s_%s\" %slane=\"%s\" startPos=\"%.2f\" endPos=\"%.2f\"/>' %\n",
    "              (type, type, j, nameAttr, bestLane.getID(), endPos - length, endPos))"
   ]
  },
  {
   "cell_type": "code",
   "execution_count": null,
   "metadata": {},
   "outputs": [],
   "source": []
  }
 ],
 "metadata": {
  "kernelspec": {
   "display_name": "Python 3",
   "language": "python",
   "name": "python3"
  },
  "language_info": {
   "codemirror_mode": {
    "name": "ipython",
    "version": 3
   },
   "file_extension": ".py",
   "mimetype": "text/x-python",
   "name": "python",
   "nbconvert_exporter": "python",
   "pygments_lexer": "ipython3",
   "version": "3.8.3"
  }
 },
 "nbformat": 4,
 "nbformat_minor": 4
}
